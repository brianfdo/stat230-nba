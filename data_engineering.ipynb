{
 "cells": [
  {
   "cell_type": "code",
   "execution_count": 2,
   "id": "c9282793",
   "metadata": {},
   "outputs": [],
   "source": [
    "import pandas as pd\n",
    "import numpy as np"
   ]
  },
  {
   "cell_type": "code",
   "execution_count": 19,
   "id": "2f3d04a1",
   "metadata": {},
   "outputs": [
    {
     "name": "stderr",
     "output_type": "stream",
     "text": [
      "<>:5: SyntaxWarning: invalid escape sequence '\\$'\n",
      "<>:5: SyntaxWarning: invalid escape sequence '\\$'\n",
      "/var/folders/kk/xndsxk6n7js53cqtn6q1fjkm0000gn/T/ipykernel_865/287330119.py:5: SyntaxWarning: invalid escape sequence '\\$'\n",
      "  df[col] = df[col].replace('[\\$,]', '', regex=True).astype(int)\n"
     ]
    }
   ],
   "source": [
    "def player_contracts(filepath):\n",
    "    df = pd.read_csv(filepath)\n",
    "    df = df.fillna(0.0)\n",
    "    for col in df.iloc[:, 3:10].columns:\n",
    "        df[col] = df[col].replace('[\\$,]', '', regex=True).astype(int)\n",
    "\n",
    "    current_season = df.iloc[:, 3:10].columns[0]\n",
    "    next_season = df.iloc[:, 3:10].columns[1]\n",
    "\n",
    "    indicator_col = f\"{current_season}_contract_year\"\n",
    "\n",
    "    # Contract year indicator: 1 if salary > 0 this year and salary = 0 next year\n",
    "    df[indicator_col] = (df[current_season].astype(float) > 0) & (df[next_season].astype(float) == 0)\n",
    "\n",
    "    df[indicator_col] = df[indicator_col].astype(int)\n",
    "    return df\n",
    "\n",
    "salaries23 = player_contracts('nba_player_contracts/nba_contracts_2023.csv')\n",
    "salaries24 = player_contracts('nba_player_contracts/nba_contracts_2024.csv')\n",
    "salaries25 = player_contracts('nba_player_contracts/nba_contracts_2025.csv')\n"
   ]
  },
  {
   "cell_type": "code",
   "execution_count": 24,
   "id": "16ff2e3c",
   "metadata": {},
   "outputs": [],
   "source": [
    "# Create 'Years of Experience' Feature\n",
    "seasons = list(range(2002, 2025))\n",
    "player_first_year = {}\n",
    "\n",
    "for year in seasons:\n",
    "    df = pd.read_csv(f\"nba_merged_stats/nba_merged_{year}.csv\")\n",
    "    players = df['Player'].dropna().unique()\n",
    "    for player in players:\n",
    "        if player not in player_first_year:\n",
    "            player_first_year[player] = year\n",
    "\n",
    "target_year = 2023\n",
    "df_2023 = pd.read_csv(f\"nba_merged_stats/nba_merged_2023.csv\")\n",
    "df_2023['Experience'] = df_2023['Player'].map(lambda x: (2023 + 1) - player_first_year.get(x, 2023))\n",
    "\n",
    "target_year = 2024\n",
    "df_2024 = pd.read_csv(f\"nba_merged_stats/nba_merged_2024.csv\")\n",
    "df_2024['Experience'] = df_2024['Player'].map(lambda x: (2024 + 1) - player_first_year.get(x, 2024))"
   ]
  },
  {
   "cell_type": "code",
   "execution_count": 25,
   "id": "236ac33e",
   "metadata": {},
   "outputs": [],
   "source": [
    "# Indicators from Awards\n",
    "def check_award_winner(x):\n",
    "    awards = [\"MVP-1\", \"DPOY-1\", \"MIP-1\", \"CPOY-1\", \"ROY-1\", \"6MOY-1\"]\n",
    "    for a in awards:\n",
    "        if a in x.split(','):\n",
    "            return 1\n",
    "    return 0\n",
    "\n",
    "def all_nba_team_1(x):\n",
    "    award = 'NBA1'\n",
    "    if award in x.split(','):\n",
    "        return 1\n",
    "    return 0\n",
    "\n",
    "def all_nba_team_2(x):\n",
    "    award = 'NBA2'\n",
    "    if award in x.split(','):\n",
    "        return 1\n",
    "    return 0\n",
    "\n",
    "def all_nba_team_3(x):\n",
    "    award = 'NBA3'\n",
    "    if award in x.split(','):\n",
    "        return 1\n",
    "    return 0\n",
    "\n",
    "def all_defensive_1(x):\n",
    "    award = 'DEF1'\n",
    "    if award in x.split(','):\n",
    "        return 1\n",
    "    return 0\n",
    "\n",
    "def all_defensive_2(x):\n",
    "    award = 'DEF2'\n",
    "    if award in x.split(','):\n",
    "        return 1\n",
    "    return 0\n"
   ]
  },
  {
   "cell_type": "code",
   "execution_count": 27,
   "id": "518373dd",
   "metadata": {},
   "outputs": [],
   "source": [
    "\n",
    "df_2024['Season'] = 2024\n",
    "df_2024['NumOfAwards'] = df_2024['Awards'].apply(lambda x: len(x.split(',')) if pd.notna(x) else 0)\n",
    "df_2024[\"All-Star\"] = df_2024['Awards'].apply(lambda x: (\"AS\" in x) + 0 if pd.notna(x) else 0)\n",
    "df_2024['AwardWinner'] = df_2024['Awards'].apply(lambda x: check_award_winner(x) if pd.notna(x) else 0)\n",
    "df_2024['FirstTeam'] = df_2024['Awards'].apply(lambda x: all_nba_team_1(x) if pd.notna(x) else 0)\n",
    "df_2024['SecondTeam'] = df_2024['Awards'].apply(lambda x: all_nba_team_2(x) if pd.notna(x) else 0)\n",
    "df_2024['ThridTeam'] = df_2024['Awards'].apply(lambda x: all_nba_team_3(x) if pd.notna(x) else 0)\n",
    "df_2024['DefTeam1'] = df_2024['Awards'].apply(lambda x: all_defensive_1(x) if pd.notna(x) else 0)\n",
    "df_2024['DefTeam2'] = df_2024['Awards'].apply(lambda x: all_defensive_2(x) if pd.notna(x) else 0)"
   ]
  },
  {
   "cell_type": "code",
   "execution_count": 28,
   "id": "c930ce93",
   "metadata": {},
   "outputs": [],
   "source": [
    "\n",
    "df_2023['Season'] = 2023\n",
    "df_2023['NumOfAwards'] = df_2023['Awards'].apply(lambda x: len(x.split(',')) if pd.notna(x) else 0)\n",
    "df_2023[\"All-Star\"] = df_2023['Awards'].apply(lambda x: (\"AS\" in x) + 0 if pd.notna(x) else 0)\n",
    "df_2023['AwardWinner'] = df_2023['Awards'].apply(lambda x: check_award_winner(x) if pd.notna(x) else 0)\n",
    "df_2023['FirstTeam'] = df_2023['Awards'].apply(lambda x: all_nba_team_1(x) if pd.notna(x) else 0)\n",
    "df_2023['SecondTeam'] = df_2023['Awards'].apply(lambda x: all_nba_team_2(x) if pd.notna(x) else 0)\n",
    "df_2023['ThridTeam'] = df_2023['Awards'].apply(lambda x: all_nba_team_3(x) if pd.notna(x) else 0)\n",
    "df_2023['DefTeam1'] = df_2023['Awards'].apply(lambda x: all_defensive_1(x) if pd.notna(x) else 0)\n",
    "df_2023['DefTeam2'] = df_2023['Awards'].apply(lambda x: all_defensive_2(x) if pd.notna(x) else 0)"
   ]
  },
  {
   "cell_type": "code",
   "execution_count": 29,
   "id": "51e9f197",
   "metadata": {},
   "outputs": [],
   "source": [
    "import re\n",
    "\n",
    "def is_multi_team(team):\n",
    "    return bool(re.match(r'\\d+TM', str(team)))\n",
    "\n",
    "def fix_team_labels(df):\n",
    "    cleaned_rows = []\n",
    "    \n",
    "    # Group by player and season\n",
    "    grouped = df.groupby(['Player'])\n",
    "    \n",
    "    for (player), group in grouped:\n",
    "        multi_team_row = group[group['Team'].apply(is_multi_team)]\n",
    "        if not multi_team_row.empty:\n",
    "            other_teams = group[~group['Team'].apply(is_multi_team)]\n",
    "            if not other_teams.empty:\n",
    "                last_team = other_teams.iloc[-1]['Team']\n",
    "            else:\n",
    "                last_team = None\n",
    "            \n",
    "            row = multi_team_row.iloc[0].copy()\n",
    "            row['Team'] = last_team\n",
    "            cleaned_rows.append(row)\n",
    "        else:\n",
    "            cleaned_rows.append(group.iloc[0])\n",
    "    \n",
    "    return pd.DataFrame(cleaned_rows)\n",
    "\n",
    "df_cleaned_2024 = fix_team_labels(df_2024)\n",
    "df_cleaned_2023 = fix_team_labels(df_2023)"
   ]
  },
  {
   "cell_type": "code",
   "execution_count": 30,
   "id": "64958d2b",
   "metadata": {},
   "outputs": [],
   "source": [
    "full2024 = pd.merge(df_cleaned_2024, salaries24, on=['Player'])\n",
    "full2024 = full2024.drop(columns=['Rk', 'Tm', '2024-25', '2025-26', '2026-27', '2027-28', '2028-29'])\n",
    "full2024 = full2024.rename(columns={'2023-24':\"Salary\"})\n",
    "full2024.to_csv(\"final_2024_player.csv\", index=False)"
   ]
  },
  {
   "cell_type": "code",
   "execution_count": 35,
   "id": "88519a6a",
   "metadata": {},
   "outputs": [],
   "source": [
    "salaries25_updated = salaries25.loc[:, ['Player', '2024-25', 'Guaranteed']]\n",
    "salaries25_updated = salaries25_updated.rename(columns={'2024-25':\"Next_Year_Salary\", \"Guaranteed\":\"Next_Year_Guaranteed\"})\n",
    "full2024_updated = pd.merge(full2024, salaries25_updated, on=['Player'], how='inner')\n",
    "full2024_updated.to_csv(\"final_2024_player.csv\", index=False)"
   ]
  },
  {
   "cell_type": "code",
   "execution_count": 34,
   "id": "e24e63f4",
   "metadata": {},
   "outputs": [],
   "source": [
    "full2023 = pd.merge(df_cleaned_2023, salaries23, on=['Player'])\n",
    "full2023 = full2023.drop(columns=['Rk', 'Tm', '2023-24', '2024-25', '2025-26', '2026-27', '2027-28'])\n",
    "full2023 = full2023.rename(columns={'2022-23':\"Salary\"})\n",
    "full2023.to_csv(\"final_2023_player.csv\", index=False)\n",
    "salaries24_updated = salaries24.loc[:, ['Player', '2023-24', 'Guaranteed']]\n",
    "salaries24_updated = salaries24_updated.rename(columns={'2023-24':\"Next_Year_Salary\", \"Guaranteed\":\"Next_Year_Guaranteed\"})\n",
    "full2023_updated = pd.merge(full2023, salaries24_updated, on=['Player'], how='inner')\n",
    "full2023_updated.to_csv(\"final_2023_player.csv\", index=False)\n"
   ]
  },
  {
   "cell_type": "code",
   "execution_count": null,
   "id": "d2eb9d63",
   "metadata": {},
   "outputs": [],
   "source": []
  }
 ],
 "metadata": {
  "kernelspec": {
   "display_name": "nba_players",
   "language": "python",
   "name": "python3"
  },
  "language_info": {
   "codemirror_mode": {
    "name": "ipython",
    "version": 3
   },
   "file_extension": ".py",
   "mimetype": "text/x-python",
   "name": "python",
   "nbconvert_exporter": "python",
   "pygments_lexer": "ipython3",
   "version": "3.12.4"
  }
 },
 "nbformat": 4,
 "nbformat_minor": 5
}
