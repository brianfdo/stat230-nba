{
 "cells": [
  {
   "cell_type": "code",
   "execution_count": 7,
   "id": "7c6eedfc",
   "metadata": {},
   "outputs": [
    {
     "name": "stdout",
     "output_type": "stream",
     "text": [
      "Collecting html5lib\n",
      "  Downloading html5lib-1.1-py2.py3-none-any.whl.metadata (16 kB)\n",
      "Requirement already satisfied: six>=1.9 in /Users/fern/opt/anaconda3/envs/nba_players/lib/python3.12/site-packages (from html5lib) (1.16.0)\n",
      "Collecting webencodings (from html5lib)\n",
      "  Using cached webencodings-0.5.1-py2.py3-none-any.whl.metadata (2.1 kB)\n",
      "Downloading html5lib-1.1-py2.py3-none-any.whl (112 kB)\n",
      "Using cached webencodings-0.5.1-py2.py3-none-any.whl (11 kB)\n",
      "Installing collected packages: webencodings, html5lib\n",
      "Successfully installed html5lib-1.1 webencodings-0.5.1\n"
     ]
    }
   ],
   "source": [
    "!pip install html5lib"
   ]
  },
  {
   "cell_type": "code",
   "execution_count": 25,
   "id": "ff20d4f6",
   "metadata": {},
   "outputs": [],
   "source": [
    "import os\n",
    "import pandas as pd\n",
    "import requests\n",
    "from bs4 import BeautifulSoup"
   ]
  },
  {
   "cell_type": "code",
   "execution_count": 79,
   "id": "ffb1f7fb",
   "metadata": {},
   "outputs": [
    {
     "name": "stderr",
     "output_type": "stream",
     "text": [
      "/var/folders/kk/xndsxk6n7js53cqtn6q1fjkm0000gn/T/ipykernel_12391/409355207.py:24: FutureWarning: Passing literal html to 'read_html' is deprecated and will be removed in a future version. To read from a literal string, wrap it in a 'StringIO' object.\n",
      "  df = pd.read_html(str(table))[0]\n",
      "/var/folders/kk/xndsxk6n7js53cqtn6q1fjkm0000gn/T/ipykernel_12391/409355207.py:24: FutureWarning: Passing literal html to 'read_html' is deprecated and will be removed in a future version. To read from a literal string, wrap it in a 'StringIO' object.\n",
      "  df = pd.read_html(str(table))[0]\n"
     ]
    },
    {
     "name": "stdout",
     "output_type": "stream",
     "text": [
      "Merged stats saved for 2002: nba_merged_2002.csv\n"
     ]
    },
    {
     "name": "stderr",
     "output_type": "stream",
     "text": [
      "/var/folders/kk/xndsxk6n7js53cqtn6q1fjkm0000gn/T/ipykernel_12391/409355207.py:24: FutureWarning: Passing literal html to 'read_html' is deprecated and will be removed in a future version. To read from a literal string, wrap it in a 'StringIO' object.\n",
      "  df = pd.read_html(str(table))[0]\n",
      "/var/folders/kk/xndsxk6n7js53cqtn6q1fjkm0000gn/T/ipykernel_12391/409355207.py:24: FutureWarning: Passing literal html to 'read_html' is deprecated and will be removed in a future version. To read from a literal string, wrap it in a 'StringIO' object.\n",
      "  df = pd.read_html(str(table))[0]\n"
     ]
    },
    {
     "name": "stdout",
     "output_type": "stream",
     "text": [
      "Merged stats saved for 2003: nba_merged_2003.csv\n"
     ]
    },
    {
     "name": "stderr",
     "output_type": "stream",
     "text": [
      "/var/folders/kk/xndsxk6n7js53cqtn6q1fjkm0000gn/T/ipykernel_12391/409355207.py:24: FutureWarning: Passing literal html to 'read_html' is deprecated and will be removed in a future version. To read from a literal string, wrap it in a 'StringIO' object.\n",
      "  df = pd.read_html(str(table))[0]\n",
      "/var/folders/kk/xndsxk6n7js53cqtn6q1fjkm0000gn/T/ipykernel_12391/409355207.py:24: FutureWarning: Passing literal html to 'read_html' is deprecated and will be removed in a future version. To read from a literal string, wrap it in a 'StringIO' object.\n",
      "  df = pd.read_html(str(table))[0]\n"
     ]
    },
    {
     "name": "stdout",
     "output_type": "stream",
     "text": [
      "Merged stats saved for 2004: nba_merged_2004.csv\n"
     ]
    },
    {
     "name": "stderr",
     "output_type": "stream",
     "text": [
      "/var/folders/kk/xndsxk6n7js53cqtn6q1fjkm0000gn/T/ipykernel_12391/409355207.py:24: FutureWarning: Passing literal html to 'read_html' is deprecated and will be removed in a future version. To read from a literal string, wrap it in a 'StringIO' object.\n",
      "  df = pd.read_html(str(table))[0]\n",
      "/var/folders/kk/xndsxk6n7js53cqtn6q1fjkm0000gn/T/ipykernel_12391/409355207.py:24: FutureWarning: Passing literal html to 'read_html' is deprecated and will be removed in a future version. To read from a literal string, wrap it in a 'StringIO' object.\n",
      "  df = pd.read_html(str(table))[0]\n"
     ]
    },
    {
     "name": "stdout",
     "output_type": "stream",
     "text": [
      "Merged stats saved for 2005: nba_merged_2005.csv\n"
     ]
    },
    {
     "name": "stderr",
     "output_type": "stream",
     "text": [
      "/var/folders/kk/xndsxk6n7js53cqtn6q1fjkm0000gn/T/ipykernel_12391/409355207.py:24: FutureWarning: Passing literal html to 'read_html' is deprecated and will be removed in a future version. To read from a literal string, wrap it in a 'StringIO' object.\n",
      "  df = pd.read_html(str(table))[0]\n",
      "/var/folders/kk/xndsxk6n7js53cqtn6q1fjkm0000gn/T/ipykernel_12391/409355207.py:24: FutureWarning: Passing literal html to 'read_html' is deprecated and will be removed in a future version. To read from a literal string, wrap it in a 'StringIO' object.\n",
      "  df = pd.read_html(str(table))[0]\n"
     ]
    },
    {
     "name": "stdout",
     "output_type": "stream",
     "text": [
      "Merged stats saved for 2006: nba_merged_2006.csv\n"
     ]
    },
    {
     "name": "stderr",
     "output_type": "stream",
     "text": [
      "/var/folders/kk/xndsxk6n7js53cqtn6q1fjkm0000gn/T/ipykernel_12391/409355207.py:24: FutureWarning: Passing literal html to 'read_html' is deprecated and will be removed in a future version. To read from a literal string, wrap it in a 'StringIO' object.\n",
      "  df = pd.read_html(str(table))[0]\n",
      "/var/folders/kk/xndsxk6n7js53cqtn6q1fjkm0000gn/T/ipykernel_12391/409355207.py:24: FutureWarning: Passing literal html to 'read_html' is deprecated and will be removed in a future version. To read from a literal string, wrap it in a 'StringIO' object.\n",
      "  df = pd.read_html(str(table))[0]\n"
     ]
    },
    {
     "name": "stdout",
     "output_type": "stream",
     "text": [
      "Merged stats saved for 2007: nba_merged_2007.csv\n"
     ]
    },
    {
     "name": "stderr",
     "output_type": "stream",
     "text": [
      "/var/folders/kk/xndsxk6n7js53cqtn6q1fjkm0000gn/T/ipykernel_12391/409355207.py:24: FutureWarning: Passing literal html to 'read_html' is deprecated and will be removed in a future version. To read from a literal string, wrap it in a 'StringIO' object.\n",
      "  df = pd.read_html(str(table))[0]\n",
      "/var/folders/kk/xndsxk6n7js53cqtn6q1fjkm0000gn/T/ipykernel_12391/409355207.py:24: FutureWarning: Passing literal html to 'read_html' is deprecated and will be removed in a future version. To read from a literal string, wrap it in a 'StringIO' object.\n",
      "  df = pd.read_html(str(table))[0]\n"
     ]
    },
    {
     "name": "stdout",
     "output_type": "stream",
     "text": [
      "Merged stats saved for 2008: nba_merged_2008.csv\n"
     ]
    },
    {
     "name": "stderr",
     "output_type": "stream",
     "text": [
      "/var/folders/kk/xndsxk6n7js53cqtn6q1fjkm0000gn/T/ipykernel_12391/409355207.py:24: FutureWarning: Passing literal html to 'read_html' is deprecated and will be removed in a future version. To read from a literal string, wrap it in a 'StringIO' object.\n",
      "  df = pd.read_html(str(table))[0]\n",
      "/var/folders/kk/xndsxk6n7js53cqtn6q1fjkm0000gn/T/ipykernel_12391/409355207.py:24: FutureWarning: Passing literal html to 'read_html' is deprecated and will be removed in a future version. To read from a literal string, wrap it in a 'StringIO' object.\n",
      "  df = pd.read_html(str(table))[0]\n"
     ]
    },
    {
     "name": "stdout",
     "output_type": "stream",
     "text": [
      "Merged stats saved for 2009: nba_merged_2009.csv\n"
     ]
    },
    {
     "name": "stderr",
     "output_type": "stream",
     "text": [
      "/var/folders/kk/xndsxk6n7js53cqtn6q1fjkm0000gn/T/ipykernel_12391/409355207.py:24: FutureWarning: Passing literal html to 'read_html' is deprecated and will be removed in a future version. To read from a literal string, wrap it in a 'StringIO' object.\n",
      "  df = pd.read_html(str(table))[0]\n",
      "/var/folders/kk/xndsxk6n7js53cqtn6q1fjkm0000gn/T/ipykernel_12391/409355207.py:24: FutureWarning: Passing literal html to 'read_html' is deprecated and will be removed in a future version. To read from a literal string, wrap it in a 'StringIO' object.\n",
      "  df = pd.read_html(str(table))[0]\n"
     ]
    },
    {
     "name": "stdout",
     "output_type": "stream",
     "text": [
      "Merged stats saved for 2010: nba_merged_2010.csv\n"
     ]
    },
    {
     "name": "stderr",
     "output_type": "stream",
     "text": [
      "/var/folders/kk/xndsxk6n7js53cqtn6q1fjkm0000gn/T/ipykernel_12391/409355207.py:24: FutureWarning: Passing literal html to 'read_html' is deprecated and will be removed in a future version. To read from a literal string, wrap it in a 'StringIO' object.\n",
      "  df = pd.read_html(str(table))[0]\n",
      "/var/folders/kk/xndsxk6n7js53cqtn6q1fjkm0000gn/T/ipykernel_12391/409355207.py:24: FutureWarning: Passing literal html to 'read_html' is deprecated and will be removed in a future version. To read from a literal string, wrap it in a 'StringIO' object.\n",
      "  df = pd.read_html(str(table))[0]\n"
     ]
    },
    {
     "name": "stdout",
     "output_type": "stream",
     "text": [
      "Merged stats saved for 2011: nba_merged_2011.csv\n"
     ]
    },
    {
     "name": "stderr",
     "output_type": "stream",
     "text": [
      "/var/folders/kk/xndsxk6n7js53cqtn6q1fjkm0000gn/T/ipykernel_12391/409355207.py:24: FutureWarning: Passing literal html to 'read_html' is deprecated and will be removed in a future version. To read from a literal string, wrap it in a 'StringIO' object.\n",
      "  df = pd.read_html(str(table))[0]\n",
      "/var/folders/kk/xndsxk6n7js53cqtn6q1fjkm0000gn/T/ipykernel_12391/409355207.py:24: FutureWarning: Passing literal html to 'read_html' is deprecated and will be removed in a future version. To read from a literal string, wrap it in a 'StringIO' object.\n",
      "  df = pd.read_html(str(table))[0]\n"
     ]
    },
    {
     "name": "stdout",
     "output_type": "stream",
     "text": [
      "Merged stats saved for 2012: nba_merged_2012.csv\n"
     ]
    },
    {
     "name": "stderr",
     "output_type": "stream",
     "text": [
      "/var/folders/kk/xndsxk6n7js53cqtn6q1fjkm0000gn/T/ipykernel_12391/409355207.py:24: FutureWarning: Passing literal html to 'read_html' is deprecated and will be removed in a future version. To read from a literal string, wrap it in a 'StringIO' object.\n",
      "  df = pd.read_html(str(table))[0]\n",
      "/var/folders/kk/xndsxk6n7js53cqtn6q1fjkm0000gn/T/ipykernel_12391/409355207.py:24: FutureWarning: Passing literal html to 'read_html' is deprecated and will be removed in a future version. To read from a literal string, wrap it in a 'StringIO' object.\n",
      "  df = pd.read_html(str(table))[0]\n"
     ]
    },
    {
     "name": "stdout",
     "output_type": "stream",
     "text": [
      "Merged stats saved for 2013: nba_merged_2013.csv\n"
     ]
    },
    {
     "name": "stderr",
     "output_type": "stream",
     "text": [
      "/var/folders/kk/xndsxk6n7js53cqtn6q1fjkm0000gn/T/ipykernel_12391/409355207.py:24: FutureWarning: Passing literal html to 'read_html' is deprecated and will be removed in a future version. To read from a literal string, wrap it in a 'StringIO' object.\n",
      "  df = pd.read_html(str(table))[0]\n",
      "/var/folders/kk/xndsxk6n7js53cqtn6q1fjkm0000gn/T/ipykernel_12391/409355207.py:24: FutureWarning: Passing literal html to 'read_html' is deprecated and will be removed in a future version. To read from a literal string, wrap it in a 'StringIO' object.\n",
      "  df = pd.read_html(str(table))[0]\n"
     ]
    },
    {
     "name": "stdout",
     "output_type": "stream",
     "text": [
      "Merged stats saved for 2014: nba_merged_2014.csv\n"
     ]
    },
    {
     "name": "stderr",
     "output_type": "stream",
     "text": [
      "/var/folders/kk/xndsxk6n7js53cqtn6q1fjkm0000gn/T/ipykernel_12391/409355207.py:24: FutureWarning: Passing literal html to 'read_html' is deprecated and will be removed in a future version. To read from a literal string, wrap it in a 'StringIO' object.\n",
      "  df = pd.read_html(str(table))[0]\n",
      "/var/folders/kk/xndsxk6n7js53cqtn6q1fjkm0000gn/T/ipykernel_12391/409355207.py:24: FutureWarning: Passing literal html to 'read_html' is deprecated and will be removed in a future version. To read from a literal string, wrap it in a 'StringIO' object.\n",
      "  df = pd.read_html(str(table))[0]\n"
     ]
    },
    {
     "name": "stdout",
     "output_type": "stream",
     "text": [
      "Merged stats saved for 2015: nba_merged_2015.csv\n"
     ]
    },
    {
     "name": "stderr",
     "output_type": "stream",
     "text": [
      "/var/folders/kk/xndsxk6n7js53cqtn6q1fjkm0000gn/T/ipykernel_12391/409355207.py:24: FutureWarning: Passing literal html to 'read_html' is deprecated and will be removed in a future version. To read from a literal string, wrap it in a 'StringIO' object.\n",
      "  df = pd.read_html(str(table))[0]\n",
      "/var/folders/kk/xndsxk6n7js53cqtn6q1fjkm0000gn/T/ipykernel_12391/409355207.py:24: FutureWarning: Passing literal html to 'read_html' is deprecated and will be removed in a future version. To read from a literal string, wrap it in a 'StringIO' object.\n",
      "  df = pd.read_html(str(table))[0]\n"
     ]
    },
    {
     "name": "stdout",
     "output_type": "stream",
     "text": [
      "Merged stats saved for 2016: nba_merged_2016.csv\n"
     ]
    },
    {
     "name": "stderr",
     "output_type": "stream",
     "text": [
      "/var/folders/kk/xndsxk6n7js53cqtn6q1fjkm0000gn/T/ipykernel_12391/409355207.py:24: FutureWarning: Passing literal html to 'read_html' is deprecated and will be removed in a future version. To read from a literal string, wrap it in a 'StringIO' object.\n",
      "  df = pd.read_html(str(table))[0]\n",
      "/var/folders/kk/xndsxk6n7js53cqtn6q1fjkm0000gn/T/ipykernel_12391/409355207.py:24: FutureWarning: Passing literal html to 'read_html' is deprecated and will be removed in a future version. To read from a literal string, wrap it in a 'StringIO' object.\n",
      "  df = pd.read_html(str(table))[0]\n"
     ]
    },
    {
     "name": "stdout",
     "output_type": "stream",
     "text": [
      "Merged stats saved for 2017: nba_merged_2017.csv\n"
     ]
    },
    {
     "name": "stderr",
     "output_type": "stream",
     "text": [
      "/var/folders/kk/xndsxk6n7js53cqtn6q1fjkm0000gn/T/ipykernel_12391/409355207.py:24: FutureWarning: Passing literal html to 'read_html' is deprecated and will be removed in a future version. To read from a literal string, wrap it in a 'StringIO' object.\n",
      "  df = pd.read_html(str(table))[0]\n",
      "/var/folders/kk/xndsxk6n7js53cqtn6q1fjkm0000gn/T/ipykernel_12391/409355207.py:24: FutureWarning: Passing literal html to 'read_html' is deprecated and will be removed in a future version. To read from a literal string, wrap it in a 'StringIO' object.\n",
      "  df = pd.read_html(str(table))[0]\n"
     ]
    },
    {
     "name": "stdout",
     "output_type": "stream",
     "text": [
      "Merged stats saved for 2018: nba_merged_2018.csv\n"
     ]
    },
    {
     "name": "stderr",
     "output_type": "stream",
     "text": [
      "/var/folders/kk/xndsxk6n7js53cqtn6q1fjkm0000gn/T/ipykernel_12391/409355207.py:24: FutureWarning: Passing literal html to 'read_html' is deprecated and will be removed in a future version. To read from a literal string, wrap it in a 'StringIO' object.\n",
      "  df = pd.read_html(str(table))[0]\n",
      "/var/folders/kk/xndsxk6n7js53cqtn6q1fjkm0000gn/T/ipykernel_12391/409355207.py:24: FutureWarning: Passing literal html to 'read_html' is deprecated and will be removed in a future version. To read from a literal string, wrap it in a 'StringIO' object.\n",
      "  df = pd.read_html(str(table))[0]\n"
     ]
    },
    {
     "name": "stdout",
     "output_type": "stream",
     "text": [
      "Merged stats saved for 2019: nba_merged_2019.csv\n"
     ]
    },
    {
     "name": "stderr",
     "output_type": "stream",
     "text": [
      "/var/folders/kk/xndsxk6n7js53cqtn6q1fjkm0000gn/T/ipykernel_12391/409355207.py:24: FutureWarning: Passing literal html to 'read_html' is deprecated and will be removed in a future version. To read from a literal string, wrap it in a 'StringIO' object.\n",
      "  df = pd.read_html(str(table))[0]\n",
      "/var/folders/kk/xndsxk6n7js53cqtn6q1fjkm0000gn/T/ipykernel_12391/409355207.py:24: FutureWarning: Passing literal html to 'read_html' is deprecated and will be removed in a future version. To read from a literal string, wrap it in a 'StringIO' object.\n",
      "  df = pd.read_html(str(table))[0]\n"
     ]
    },
    {
     "name": "stdout",
     "output_type": "stream",
     "text": [
      "Merged stats saved for 2020: nba_merged_2020.csv\n"
     ]
    },
    {
     "name": "stderr",
     "output_type": "stream",
     "text": [
      "/var/folders/kk/xndsxk6n7js53cqtn6q1fjkm0000gn/T/ipykernel_12391/409355207.py:24: FutureWarning: Passing literal html to 'read_html' is deprecated and will be removed in a future version. To read from a literal string, wrap it in a 'StringIO' object.\n",
      "  df = pd.read_html(str(table))[0]\n",
      "/var/folders/kk/xndsxk6n7js53cqtn6q1fjkm0000gn/T/ipykernel_12391/409355207.py:24: FutureWarning: Passing literal html to 'read_html' is deprecated and will be removed in a future version. To read from a literal string, wrap it in a 'StringIO' object.\n",
      "  df = pd.read_html(str(table))[0]\n"
     ]
    },
    {
     "name": "stdout",
     "output_type": "stream",
     "text": [
      "Merged stats saved for 2021: nba_merged_2021.csv\n"
     ]
    },
    {
     "name": "stderr",
     "output_type": "stream",
     "text": [
      "/var/folders/kk/xndsxk6n7js53cqtn6q1fjkm0000gn/T/ipykernel_12391/409355207.py:24: FutureWarning: Passing literal html to 'read_html' is deprecated and will be removed in a future version. To read from a literal string, wrap it in a 'StringIO' object.\n",
      "  df = pd.read_html(str(table))[0]\n",
      "/var/folders/kk/xndsxk6n7js53cqtn6q1fjkm0000gn/T/ipykernel_12391/409355207.py:24: FutureWarning: Passing literal html to 'read_html' is deprecated and will be removed in a future version. To read from a literal string, wrap it in a 'StringIO' object.\n",
      "  df = pd.read_html(str(table))[0]\n"
     ]
    },
    {
     "name": "stdout",
     "output_type": "stream",
     "text": [
      "Merged stats saved for 2022: nba_merged_2022.csv\n"
     ]
    },
    {
     "name": "stderr",
     "output_type": "stream",
     "text": [
      "/var/folders/kk/xndsxk6n7js53cqtn6q1fjkm0000gn/T/ipykernel_12391/409355207.py:24: FutureWarning: Passing literal html to 'read_html' is deprecated and will be removed in a future version. To read from a literal string, wrap it in a 'StringIO' object.\n",
      "  df = pd.read_html(str(table))[0]\n",
      "/var/folders/kk/xndsxk6n7js53cqtn6q1fjkm0000gn/T/ipykernel_12391/409355207.py:24: FutureWarning: Passing literal html to 'read_html' is deprecated and will be removed in a future version. To read from a literal string, wrap it in a 'StringIO' object.\n",
      "  df = pd.read_html(str(table))[0]\n"
     ]
    },
    {
     "name": "stdout",
     "output_type": "stream",
     "text": [
      "Merged stats saved for 2023: nba_merged_2023.csv\n"
     ]
    },
    {
     "name": "stderr",
     "output_type": "stream",
     "text": [
      "/var/folders/kk/xndsxk6n7js53cqtn6q1fjkm0000gn/T/ipykernel_12391/409355207.py:24: FutureWarning: Passing literal html to 'read_html' is deprecated and will be removed in a future version. To read from a literal string, wrap it in a 'StringIO' object.\n",
      "  df = pd.read_html(str(table))[0]\n",
      "/var/folders/kk/xndsxk6n7js53cqtn6q1fjkm0000gn/T/ipykernel_12391/409355207.py:24: FutureWarning: Passing literal html to 'read_html' is deprecated and will be removed in a future version. To read from a literal string, wrap it in a 'StringIO' object.\n",
      "  df = pd.read_html(str(table))[0]\n"
     ]
    },
    {
     "name": "stdout",
     "output_type": "stream",
     "text": [
      "Merged stats saved for 2024: nba_merged_2024.csv\n"
     ]
    }
   ],
   "source": [
    "def scrape_table(url, table_id):\n",
    "    headers = {'User-Agent': 'Mozilla/5.0'}\n",
    "    response = requests.get(url, headers=headers)\n",
    "    if not response.ok:\n",
    "        print(f\"Failed to fetch URL: {url}\")\n",
    "        return None\n",
    "\n",
    "    soup = BeautifulSoup(response.content, 'lxml')\n",
    "\n",
    "    table = None\n",
    "    for comment in soup.find_all(string=lambda text: isinstance(text, str) and table_id in text):\n",
    "        comment_soup = BeautifulSoup(comment, 'lxml')\n",
    "        table = comment_soup.find('table', {'id': table_id})\n",
    "        if table:\n",
    "            break\n",
    "\n",
    "    if not table:\n",
    "        table = soup.find('table', {'id': table_id})\n",
    "\n",
    "    if not table:\n",
    "        print(f\"Table '{table_id}' not found\")\n",
    "        return None\n",
    "\n",
    "    df = pd.read_html(str(table))[0]\n",
    "    df = df[df['Rk'] != 'Rk']\n",
    "    df.reset_index(drop=True, inplace=True)\n",
    "    return df\n",
    "\n",
    "def scrape_and_merge_stats(season: int, save_dir='nba_merged_stats'):\n",
    "    os.makedirs(save_dir, exist_ok=True)\n",
    "\n",
    "    per_game_url = f'https://www.basketball-reference.com/leagues/NBA_{season}_per_game.html'\n",
    "    advanced_url = f'https://www.basketball-reference.com/leagues/NBA_{season}_advanced.html'\n",
    "\n",
    "    per_game_df = scrape_table(per_game_url, 'per_game_stats')\n",
    "    advanced_df = scrape_table(advanced_url, 'advanced')\n",
    "\n",
    "    if per_game_df is None or advanced_df is None:\n",
    "        print(f\"Skipping season {season} due to missing data.\")\n",
    "        return\n",
    "\n",
    "    merged_df = pd.merge(per_game_df, advanced_df, on=['Player', 'Team', 'Age', 'Pos', 'G', 'GS', 'Awards'], how='inner')\n",
    "    merged_df = merged_df.drop(columns=[\"Rk_y\", \"MP_y\"])\n",
    "    merged_df['Season'] = f'{season-1}-{str(season)[-2:]}'\n",
    "\n",
    "    merged_df.to_csv(f\"{save_dir}/nba_merged_{season}.csv\", index=False)\n",
    "    print(f\"Merged stats saved for {season}: nba_merged_{season}.csv\")\n",
    "\n",
    "\n",
    "for year in range(2002, 2025):\n",
    "    scrape_and_merge_stats(year)\n"
   ]
  },
  {
   "cell_type": "code",
   "execution_count": null,
   "id": "e3aafde5",
   "metadata": {},
   "outputs": [
    {
     "name": "stderr",
     "output_type": "stream",
     "text": [
      "/var/folders/kk/xndsxk6n7js53cqtn6q1fjkm0000gn/T/ipykernel_12391/2546906890.py:27: FutureWarning: Passing literal html to 'read_html' is deprecated and will be removed in a future version. To read from a literal string, wrap it in a 'StringIO' object.\n",
      "  df = pd.read_html(str(table), skiprows=0)[0]\n"
     ]
    },
    {
     "data": {
      "text/html": [
       "<div>\n",
       "<style scoped>\n",
       "    .dataframe tbody tr th:only-of-type {\n",
       "        vertical-align: middle;\n",
       "    }\n",
       "\n",
       "    .dataframe tbody tr th {\n",
       "        vertical-align: top;\n",
       "    }\n",
       "\n",
       "    .dataframe thead th {\n",
       "        text-align: right;\n",
       "    }\n",
       "</style>\n",
       "<table border=\"1\" class=\"dataframe\">\n",
       "  <thead>\n",
       "    <tr style=\"text-align: right;\">\n",
       "      <th></th>\n",
       "      <th>Rk</th>\n",
       "      <th>Player</th>\n",
       "      <th>Tm</th>\n",
       "      <th>2023-24</th>\n",
       "      <th>2024-25</th>\n",
       "      <th>2025-26</th>\n",
       "      <th>2026-27</th>\n",
       "      <th>2027-28</th>\n",
       "      <th>2028-29</th>\n",
       "      <th>Guaranteed</th>\n",
       "    </tr>\n",
       "  </thead>\n",
       "  <tbody>\n",
       "    <tr>\n",
       "      <th>0</th>\n",
       "      <td>1</td>\n",
       "      <td>Stephen Curry</td>\n",
       "      <td>GSW</td>\n",
       "      <td>$51,915,615</td>\n",
       "      <td>$55,761,216</td>\n",
       "      <td>$59,606,817</td>\n",
       "      <td>NaN</td>\n",
       "      <td>NaN</td>\n",
       "      <td>NaN</td>\n",
       "      <td>$167,283,648</td>\n",
       "    </tr>\n",
       "    <tr>\n",
       "      <th>1</th>\n",
       "      <td>2</td>\n",
       "      <td>Kevin Durant</td>\n",
       "      <td>PHO</td>\n",
       "      <td>$47,649,433</td>\n",
       "      <td>$51,179,021</td>\n",
       "      <td>$54,708,609</td>\n",
       "      <td>NaN</td>\n",
       "      <td>NaN</td>\n",
       "      <td>NaN</td>\n",
       "      <td>$153,537,063</td>\n",
       "    </tr>\n",
       "    <tr>\n",
       "      <th>2</th>\n",
       "      <td>3</td>\n",
       "      <td>Nikola Jokić</td>\n",
       "      <td>DEN</td>\n",
       "      <td>$47,607,350</td>\n",
       "      <td>$51,415,938</td>\n",
       "      <td>$55,224,526</td>\n",
       "      <td>$59,033,114</td>\n",
       "      <td>$62,841,702</td>\n",
       "      <td>NaN</td>\n",
       "      <td>$213,280,928</td>\n",
       "    </tr>\n",
       "    <tr>\n",
       "      <th>3</th>\n",
       "      <td>4</td>\n",
       "      <td>Joel Embiid</td>\n",
       "      <td>PHI</td>\n",
       "      <td>$47,607,350</td>\n",
       "      <td>$51,415,938</td>\n",
       "      <td>$55,224,526</td>\n",
       "      <td>$59,033,114</td>\n",
       "      <td>NaN</td>\n",
       "      <td>NaN</td>\n",
       "      <td>$154,247,814</td>\n",
       "    </tr>\n",
       "    <tr>\n",
       "      <th>4</th>\n",
       "      <td>5</td>\n",
       "      <td>LeBron James</td>\n",
       "      <td>LAL</td>\n",
       "      <td>$47,607,350</td>\n",
       "      <td>$51,415,938</td>\n",
       "      <td>NaN</td>\n",
       "      <td>NaN</td>\n",
       "      <td>NaN</td>\n",
       "      <td>NaN</td>\n",
       "      <td>$47,607,350</td>\n",
       "    </tr>\n",
       "    <tr>\n",
       "      <th>...</th>\n",
       "      <td>...</td>\n",
       "      <td>...</td>\n",
       "      <td>...</td>\n",
       "      <td>...</td>\n",
       "      <td>...</td>\n",
       "      <td>...</td>\n",
       "      <td>...</td>\n",
       "      <td>...</td>\n",
       "      <td>...</td>\n",
       "      <td>...</td>\n",
       "    </tr>\n",
       "    <tr>\n",
       "      <th>557</th>\n",
       "      <td>558</td>\n",
       "      <td>Matthew Hurt</td>\n",
       "      <td>MEM</td>\n",
       "      <td>NaN</td>\n",
       "      <td>NaN</td>\n",
       "      <td>NaN</td>\n",
       "      <td>NaN</td>\n",
       "      <td>NaN</td>\n",
       "      <td>NaN</td>\n",
       "      <td>$64,343</td>\n",
       "    </tr>\n",
       "    <tr>\n",
       "      <th>558</th>\n",
       "      <td>559</td>\n",
       "      <td>Pete Nance</td>\n",
       "      <td>CLE</td>\n",
       "      <td>$64,343</td>\n",
       "      <td>NaN</td>\n",
       "      <td>NaN</td>\n",
       "      <td>NaN</td>\n",
       "      <td>NaN</td>\n",
       "      <td>NaN</td>\n",
       "      <td>$64,343</td>\n",
       "    </tr>\n",
       "    <tr>\n",
       "      <th>559</th>\n",
       "      <td>560</td>\n",
       "      <td>Malik Williams</td>\n",
       "      <td>TOR</td>\n",
       "      <td>$77,212</td>\n",
       "      <td>NaN</td>\n",
       "      <td>NaN</td>\n",
       "      <td>NaN</td>\n",
       "      <td>NaN</td>\n",
       "      <td>NaN</td>\n",
       "      <td>$77,212</td>\n",
       "    </tr>\n",
       "    <tr>\n",
       "      <th>560</th>\n",
       "      <td>561</td>\n",
       "      <td>Kai Jones</td>\n",
       "      <td>LAC</td>\n",
       "      <td>$3,175,563</td>\n",
       "      <td>$2,196,970</td>\n",
       "      <td>NaN</td>\n",
       "      <td>NaN</td>\n",
       "      <td>NaN</td>\n",
       "      <td>NaN</td>\n",
       "      <td>$11,608</td>\n",
       "    </tr>\n",
       "    <tr>\n",
       "      <th>561</th>\n",
       "      <td>562</td>\n",
       "      <td>Usman Garuba</td>\n",
       "      <td>GSW</td>\n",
       "      <td>$2,600,008</td>\n",
       "      <td>NaN</td>\n",
       "      <td>NaN</td>\n",
       "      <td>NaN</td>\n",
       "      <td>NaN</td>\n",
       "      <td>NaN</td>\n",
       "      <td>$11,608</td>\n",
       "    </tr>\n",
       "  </tbody>\n",
       "</table>\n",
       "<p>562 rows × 10 columns</p>\n",
       "</div>"
      ],
      "text/plain": [
       "      Rk          Player   Tm      2023-24      2024-25      2025-26  \\\n",
       "0      1   Stephen Curry  GSW  $51,915,615  $55,761,216  $59,606,817   \n",
       "1      2    Kevin Durant  PHO  $47,649,433  $51,179,021  $54,708,609   \n",
       "2      3    Nikola Jokić  DEN  $47,607,350  $51,415,938  $55,224,526   \n",
       "3      4     Joel Embiid  PHI  $47,607,350  $51,415,938  $55,224,526   \n",
       "4      5    LeBron James  LAL  $47,607,350  $51,415,938          NaN   \n",
       "..   ...             ...  ...          ...          ...          ...   \n",
       "557  558    Matthew Hurt  MEM          NaN          NaN          NaN   \n",
       "558  559      Pete Nance  CLE      $64,343          NaN          NaN   \n",
       "559  560  Malik Williams  TOR      $77,212          NaN          NaN   \n",
       "560  561       Kai Jones  LAC   $3,175,563   $2,196,970          NaN   \n",
       "561  562    Usman Garuba  GSW   $2,600,008          NaN          NaN   \n",
       "\n",
       "         2026-27      2027-28 2028-29    Guaranteed  \n",
       "0            NaN          NaN     NaN  $167,283,648  \n",
       "1            NaN          NaN     NaN  $153,537,063  \n",
       "2    $59,033,114  $62,841,702     NaN  $213,280,928  \n",
       "3    $59,033,114          NaN     NaN  $154,247,814  \n",
       "4            NaN          NaN     NaN   $47,607,350  \n",
       "..           ...          ...     ...           ...  \n",
       "557          NaN          NaN     NaN       $64,343  \n",
       "558          NaN          NaN     NaN       $64,343  \n",
       "559          NaN          NaN     NaN       $77,212  \n",
       "560          NaN          NaN     NaN       $11,608  \n",
       "561          NaN          NaN     NaN       $11,608  \n",
       "\n",
       "[562 rows x 10 columns]"
      ]
     },
     "execution_count": 74,
     "metadata": {},
     "output_type": "execute_result"
    }
   ],
   "source": [
    "salaries_2324_url = \"https://web.archive.org/web/20240605124914/https://www.basketball-reference.com/contracts/players.html\"\n",
    "table_id = \"player-contracts\"\n",
    "def scrape_salaries(url, table_id):\n",
    "\n",
    "    headers = {'User-Agent': 'Mozilla/5.0'}\n",
    "    response = requests.get(url, headers=headers)\n",
    "    if not response.ok:\n",
    "        print(f\"Failed to fetch URL: {url}\")\n",
    "        return None\n",
    "\n",
    "    soup = BeautifulSoup(response.content, 'lxml')\n",
    "\n",
    "    table = None\n",
    "    for comment in soup.find_all(string=lambda text: isinstance(text, str) and table_id in text):\n",
    "        comment_soup = BeautifulSoup(comment, 'lxml')\n",
    "        table = comment_soup.find('table', {'id': table_id})\n",
    "        if table:\n",
    "            break\n",
    "\n",
    "    if not table:\n",
    "        table = soup.find('table', {'id': table_id})\n",
    "\n",
    "    if not table:\n",
    "        print(f\"Table '{table_id}' not found\")\n",
    "        return None\n",
    "\n",
    "    df = pd.read_html(str(table), skiprows=0)[0]\n",
    "    df = df[(df.iloc[:, 0] != 'Rk') & (df.iloc[:, 0].notna())]\n",
    "    df.columns = df.columns.droplevel(0) if isinstance(df.columns, pd.MultiIndex) else df.columns\n",
    "    df.reset_index(drop=True, inplace=True)\n",
    "\n",
    "    df['Rk'] = pd.to_numeric(df['Rk'], errors='coerce')\n",
    "    df.dropna(subset=['Rk'], inplace=True)\n",
    "    df['Rk'] = df['Rk'].astype(int)\n",
    "\n",
    "    return df\n",
    "\n",
    "salaries_2324_df = scrape_salaries(salaries_2324_url, \"player-contracts\")\n",
    "salaries_2324_df.to_csv(\"nba_player_contracts/nba_contracts_2024.csv\", index=False)\n",
    "salaries_2324_df"
   ]
  },
  {
   "cell_type": "code",
   "execution_count": null,
   "id": "48c9ee5f",
   "metadata": {},
   "outputs": [
    {
     "name": "stderr",
     "output_type": "stream",
     "text": [
      "/var/folders/kk/xndsxk6n7js53cqtn6q1fjkm0000gn/T/ipykernel_12391/2546906890.py:27: FutureWarning: Passing literal html to 'read_html' is deprecated and will be removed in a future version. To read from a literal string, wrap it in a 'StringIO' object.\n",
      "  df = pd.read_html(str(table), skiprows=0)[0]\n"
     ]
    }
   ],
   "source": [
    "salaries_2425_url = \"https://www.basketball-reference.com/contracts/players.html\"\n",
    "df = scrape_salaries(salaries_2425_url, \"player-contracts\")\n",
    "df.to_csv(\"nba_player_contracts/nba_contracts_2025.csv\", index=False)"
   ]
  },
  {
   "cell_type": "code",
   "execution_count": 70,
   "id": "9a012c80",
   "metadata": {},
   "outputs": [
    {
     "data": {
      "text/html": [
       "<div>\n",
       "<style scoped>\n",
       "    .dataframe tbody tr th:only-of-type {\n",
       "        vertical-align: middle;\n",
       "    }\n",
       "\n",
       "    .dataframe tbody tr th {\n",
       "        vertical-align: top;\n",
       "    }\n",
       "\n",
       "    .dataframe thead th {\n",
       "        text-align: right;\n",
       "    }\n",
       "</style>\n",
       "<table border=\"1\" class=\"dataframe\">\n",
       "  <thead>\n",
       "    <tr style=\"text-align: right;\">\n",
       "      <th></th>\n",
       "      <th>Rk</th>\n",
       "      <th>Player</th>\n",
       "      <th>Tm</th>\n",
       "      <th>2024-25</th>\n",
       "      <th>2025-26</th>\n",
       "      <th>2026-27</th>\n",
       "      <th>2027-28</th>\n",
       "      <th>2028-29</th>\n",
       "      <th>2029-30</th>\n",
       "      <th>Guaranteed</th>\n",
       "    </tr>\n",
       "  </thead>\n",
       "  <tbody>\n",
       "    <tr>\n",
       "      <th>0</th>\n",
       "      <td>1</td>\n",
       "      <td>Stephen Curry</td>\n",
       "      <td>GSW</td>\n",
       "      <td>55761216</td>\n",
       "      <td>59606817</td>\n",
       "      <td>62587158</td>\n",
       "      <td>0</td>\n",
       "      <td>0</td>\n",
       "      <td>0</td>\n",
       "      <td>177955191</td>\n",
       "    </tr>\n",
       "    <tr>\n",
       "      <th>1</th>\n",
       "      <td>2</td>\n",
       "      <td>Joel Embiid</td>\n",
       "      <td>PHI</td>\n",
       "      <td>51415938</td>\n",
       "      <td>55224526</td>\n",
       "      <td>57985752</td>\n",
       "      <td>62624612</td>\n",
       "      <td>67263472</td>\n",
       "      <td>0</td>\n",
       "      <td>227250828</td>\n",
       "    </tr>\n",
       "    <tr>\n",
       "      <th>2</th>\n",
       "      <td>3</td>\n",
       "      <td>Nikola Jokić</td>\n",
       "      <td>DEN</td>\n",
       "      <td>51415938</td>\n",
       "      <td>55224526</td>\n",
       "      <td>59033114</td>\n",
       "      <td>62841702</td>\n",
       "      <td>0</td>\n",
       "      <td>0</td>\n",
       "      <td>165673578</td>\n",
       "    </tr>\n",
       "    <tr>\n",
       "      <th>3</th>\n",
       "      <td>4</td>\n",
       "      <td>Kevin Durant</td>\n",
       "      <td>PHO</td>\n",
       "      <td>51179021</td>\n",
       "      <td>54708609</td>\n",
       "      <td>0</td>\n",
       "      <td>0</td>\n",
       "      <td>0</td>\n",
       "      <td>0</td>\n",
       "      <td>105887630</td>\n",
       "    </tr>\n",
       "    <tr>\n",
       "      <th>4</th>\n",
       "      <td>5</td>\n",
       "      <td>Bradley Beal</td>\n",
       "      <td>PHO</td>\n",
       "      <td>50203930</td>\n",
       "      <td>53666270</td>\n",
       "      <td>57128610</td>\n",
       "      <td>0</td>\n",
       "      <td>0</td>\n",
       "      <td>0</td>\n",
       "      <td>103870200</td>\n",
       "    </tr>\n",
       "    <tr>\n",
       "      <th>...</th>\n",
       "      <td>...</td>\n",
       "      <td>...</td>\n",
       "      <td>...</td>\n",
       "      <td>...</td>\n",
       "      <td>...</td>\n",
       "      <td>...</td>\n",
       "      <td>...</td>\n",
       "      <td>...</td>\n",
       "      <td>...</td>\n",
       "      <td>...</td>\n",
       "    </tr>\n",
       "    <tr>\n",
       "      <th>558</th>\n",
       "      <td>559</td>\n",
       "      <td>Isaiah Mobley</td>\n",
       "      <td>PHI</td>\n",
       "      <td>11997</td>\n",
       "      <td>0</td>\n",
       "      <td>0</td>\n",
       "      <td>0</td>\n",
       "      <td>0</td>\n",
       "      <td>0</td>\n",
       "      <td>11997</td>\n",
       "    </tr>\n",
       "    <tr>\n",
       "      <th>559</th>\n",
       "      <td>560</td>\n",
       "      <td>Braxton Key</td>\n",
       "      <td>GSW</td>\n",
       "      <td>11997</td>\n",
       "      <td>0</td>\n",
       "      <td>0</td>\n",
       "      <td>0</td>\n",
       "      <td>0</td>\n",
       "      <td>0</td>\n",
       "      <td>11997</td>\n",
       "    </tr>\n",
       "    <tr>\n",
       "      <th>560</th>\n",
       "      <td>561</td>\n",
       "      <td>JD Davison</td>\n",
       "      <td>BOS</td>\n",
       "      <td>11997</td>\n",
       "      <td>2270735</td>\n",
       "      <td>0</td>\n",
       "      <td>0</td>\n",
       "      <td>0</td>\n",
       "      <td>0</td>\n",
       "      <td>11997</td>\n",
       "    </tr>\n",
       "    <tr>\n",
       "      <th>561</th>\n",
       "      <td>562</td>\n",
       "      <td>Kylor Kelley</td>\n",
       "      <td>NOP</td>\n",
       "      <td>73153</td>\n",
       "      <td>0</td>\n",
       "      <td>0</td>\n",
       "      <td>0</td>\n",
       "      <td>0</td>\n",
       "      <td>0</td>\n",
       "      <td>73153</td>\n",
       "    </tr>\n",
       "    <tr>\n",
       "      <th>562</th>\n",
       "      <td>563</td>\n",
       "      <td>Jaylen Sims</td>\n",
       "      <td>CHO</td>\n",
       "      <td>73153</td>\n",
       "      <td>0</td>\n",
       "      <td>0</td>\n",
       "      <td>0</td>\n",
       "      <td>0</td>\n",
       "      <td>0</td>\n",
       "      <td>73153</td>\n",
       "    </tr>\n",
       "  </tbody>\n",
       "</table>\n",
       "<p>563 rows × 10 columns</p>\n",
       "</div>"
      ],
      "text/plain": [
       "      Rk         Player   Tm   2024-25   2025-26   2026-27   2027-28  \\\n",
       "0      1  Stephen Curry  GSW  55761216  59606817  62587158         0   \n",
       "1      2    Joel Embiid  PHI  51415938  55224526  57985752  62624612   \n",
       "2      3   Nikola Jokić  DEN  51415938  55224526  59033114  62841702   \n",
       "3      4   Kevin Durant  PHO  51179021  54708609         0         0   \n",
       "4      5   Bradley Beal  PHO  50203930  53666270  57128610         0   \n",
       "..   ...            ...  ...       ...       ...       ...       ...   \n",
       "558  559  Isaiah Mobley  PHI     11997         0         0         0   \n",
       "559  560    Braxton Key  GSW     11997         0         0         0   \n",
       "560  561     JD Davison  BOS     11997   2270735         0         0   \n",
       "561  562   Kylor Kelley  NOP     73153         0         0         0   \n",
       "562  563    Jaylen Sims  CHO     73153         0         0         0   \n",
       "\n",
       "      2028-29  2029-30  Guaranteed  \n",
       "0           0        0   177955191  \n",
       "1    67263472        0   227250828  \n",
       "2           0        0   165673578  \n",
       "3           0        0   105887630  \n",
       "4           0        0   103870200  \n",
       "..        ...      ...         ...  \n",
       "558         0        0       11997  \n",
       "559         0        0       11997  \n",
       "560         0        0       11997  \n",
       "561         0        0       73153  \n",
       "562         0        0       73153  \n",
       "\n",
       "[563 rows x 10 columns]"
      ]
     },
     "execution_count": 70,
     "metadata": {},
     "output_type": "execute_result"
    }
   ],
   "source": [
    "df\n"
   ]
  },
  {
   "cell_type": "code",
   "execution_count": null,
   "id": "96b43d99",
   "metadata": {},
   "outputs": [],
   "source": []
  }
 ],
 "metadata": {
  "kernelspec": {
   "display_name": "nba_players",
   "language": "python",
   "name": "python3"
  },
  "language_info": {
   "codemirror_mode": {
    "name": "ipython",
    "version": 3
   },
   "file_extension": ".py",
   "mimetype": "text/x-python",
   "name": "python",
   "nbconvert_exporter": "python",
   "pygments_lexer": "ipython3",
   "version": "3.12.4"
  }
 },
 "nbformat": 4,
 "nbformat_minor": 5
}
