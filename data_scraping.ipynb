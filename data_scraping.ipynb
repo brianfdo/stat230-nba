{
 "cells": [
  {
   "cell_type": "code",
   "execution_count": 7,
   "id": "7c6eedfc",
   "metadata": {},
   "outputs": [
    {
     "name": "stdout",
     "output_type": "stream",
     "text": [
      "Collecting html5lib\n",
      "  Downloading html5lib-1.1-py2.py3-none-any.whl.metadata (16 kB)\n",
      "Requirement already satisfied: six>=1.9 in /Users/fern/opt/anaconda3/envs/nba_players/lib/python3.12/site-packages (from html5lib) (1.16.0)\n",
      "Collecting webencodings (from html5lib)\n",
      "  Using cached webencodings-0.5.1-py2.py3-none-any.whl.metadata (2.1 kB)\n",
      "Downloading html5lib-1.1-py2.py3-none-any.whl (112 kB)\n",
      "Using cached webencodings-0.5.1-py2.py3-none-any.whl (11 kB)\n",
      "Installing collected packages: webencodings, html5lib\n",
      "Successfully installed html5lib-1.1 webencodings-0.5.1\n"
     ]
    }
   ],
   "source": [
    "!pip install html5lib"
   ]
  },
  {
   "cell_type": "code",
   "execution_count": 25,
   "id": "ff20d4f6",
   "metadata": {},
   "outputs": [],
   "source": [
    "import os\n",
    "import pandas as pd\n",
    "import requests\n",
    "from bs4 import BeautifulSoup"
   ]
  },
  {
   "cell_type": "code",
   "execution_count": 26,
   "id": "ffb1f7fb",
   "metadata": {},
   "outputs": [
    {
     "name": "stderr",
     "output_type": "stream",
     "text": [
      "/var/folders/kk/xndsxk6n7js53cqtn6q1fjkm0000gn/T/ipykernel_12391/3569780612.py:24: FutureWarning: Passing literal html to 'read_html' is deprecated and will be removed in a future version. To read from a literal string, wrap it in a 'StringIO' object.\n",
      "  df = pd.read_html(str(table))[0]\n",
      "/var/folders/kk/xndsxk6n7js53cqtn6q1fjkm0000gn/T/ipykernel_12391/3569780612.py:24: FutureWarning: Passing literal html to 'read_html' is deprecated and will be removed in a future version. To read from a literal string, wrap it in a 'StringIO' object.\n",
      "  df = pd.read_html(str(table))[0]\n"
     ]
    },
    {
     "name": "stdout",
     "output_type": "stream",
     "text": [
      "Merged stats saved for 2002: nba_merged_2002.csv\n"
     ]
    },
    {
     "name": "stderr",
     "output_type": "stream",
     "text": [
      "/var/folders/kk/xndsxk6n7js53cqtn6q1fjkm0000gn/T/ipykernel_12391/3569780612.py:24: FutureWarning: Passing literal html to 'read_html' is deprecated and will be removed in a future version. To read from a literal string, wrap it in a 'StringIO' object.\n",
      "  df = pd.read_html(str(table))[0]\n",
      "/var/folders/kk/xndsxk6n7js53cqtn6q1fjkm0000gn/T/ipykernel_12391/3569780612.py:24: FutureWarning: Passing literal html to 'read_html' is deprecated and will be removed in a future version. To read from a literal string, wrap it in a 'StringIO' object.\n",
      "  df = pd.read_html(str(table))[0]\n"
     ]
    },
    {
     "name": "stdout",
     "output_type": "stream",
     "text": [
      "Merged stats saved for 2003: nba_merged_2003.csv\n"
     ]
    },
    {
     "name": "stderr",
     "output_type": "stream",
     "text": [
      "/var/folders/kk/xndsxk6n7js53cqtn6q1fjkm0000gn/T/ipykernel_12391/3569780612.py:24: FutureWarning: Passing literal html to 'read_html' is deprecated and will be removed in a future version. To read from a literal string, wrap it in a 'StringIO' object.\n",
      "  df = pd.read_html(str(table))[0]\n",
      "/var/folders/kk/xndsxk6n7js53cqtn6q1fjkm0000gn/T/ipykernel_12391/3569780612.py:24: FutureWarning: Passing literal html to 'read_html' is deprecated and will be removed in a future version. To read from a literal string, wrap it in a 'StringIO' object.\n",
      "  df = pd.read_html(str(table))[0]\n"
     ]
    },
    {
     "name": "stdout",
     "output_type": "stream",
     "text": [
      "Merged stats saved for 2004: nba_merged_2004.csv\n"
     ]
    },
    {
     "name": "stderr",
     "output_type": "stream",
     "text": [
      "/var/folders/kk/xndsxk6n7js53cqtn6q1fjkm0000gn/T/ipykernel_12391/3569780612.py:24: FutureWarning: Passing literal html to 'read_html' is deprecated and will be removed in a future version. To read from a literal string, wrap it in a 'StringIO' object.\n",
      "  df = pd.read_html(str(table))[0]\n",
      "/var/folders/kk/xndsxk6n7js53cqtn6q1fjkm0000gn/T/ipykernel_12391/3569780612.py:24: FutureWarning: Passing literal html to 'read_html' is deprecated and will be removed in a future version. To read from a literal string, wrap it in a 'StringIO' object.\n",
      "  df = pd.read_html(str(table))[0]\n"
     ]
    },
    {
     "name": "stdout",
     "output_type": "stream",
     "text": [
      "Merged stats saved for 2005: nba_merged_2005.csv\n"
     ]
    },
    {
     "name": "stderr",
     "output_type": "stream",
     "text": [
      "/var/folders/kk/xndsxk6n7js53cqtn6q1fjkm0000gn/T/ipykernel_12391/3569780612.py:24: FutureWarning: Passing literal html to 'read_html' is deprecated and will be removed in a future version. To read from a literal string, wrap it in a 'StringIO' object.\n",
      "  df = pd.read_html(str(table))[0]\n",
      "/var/folders/kk/xndsxk6n7js53cqtn6q1fjkm0000gn/T/ipykernel_12391/3569780612.py:24: FutureWarning: Passing literal html to 'read_html' is deprecated and will be removed in a future version. To read from a literal string, wrap it in a 'StringIO' object.\n",
      "  df = pd.read_html(str(table))[0]\n"
     ]
    },
    {
     "name": "stdout",
     "output_type": "stream",
     "text": [
      "Merged stats saved for 2006: nba_merged_2006.csv\n"
     ]
    },
    {
     "name": "stderr",
     "output_type": "stream",
     "text": [
      "/var/folders/kk/xndsxk6n7js53cqtn6q1fjkm0000gn/T/ipykernel_12391/3569780612.py:24: FutureWarning: Passing literal html to 'read_html' is deprecated and will be removed in a future version. To read from a literal string, wrap it in a 'StringIO' object.\n",
      "  df = pd.read_html(str(table))[0]\n",
      "/var/folders/kk/xndsxk6n7js53cqtn6q1fjkm0000gn/T/ipykernel_12391/3569780612.py:24: FutureWarning: Passing literal html to 'read_html' is deprecated and will be removed in a future version. To read from a literal string, wrap it in a 'StringIO' object.\n",
      "  df = pd.read_html(str(table))[0]\n"
     ]
    },
    {
     "name": "stdout",
     "output_type": "stream",
     "text": [
      "Merged stats saved for 2007: nba_merged_2007.csv\n"
     ]
    },
    {
     "name": "stderr",
     "output_type": "stream",
     "text": [
      "/var/folders/kk/xndsxk6n7js53cqtn6q1fjkm0000gn/T/ipykernel_12391/3569780612.py:24: FutureWarning: Passing literal html to 'read_html' is deprecated and will be removed in a future version. To read from a literal string, wrap it in a 'StringIO' object.\n",
      "  df = pd.read_html(str(table))[0]\n",
      "/var/folders/kk/xndsxk6n7js53cqtn6q1fjkm0000gn/T/ipykernel_12391/3569780612.py:24: FutureWarning: Passing literal html to 'read_html' is deprecated and will be removed in a future version. To read from a literal string, wrap it in a 'StringIO' object.\n",
      "  df = pd.read_html(str(table))[0]\n"
     ]
    },
    {
     "name": "stdout",
     "output_type": "stream",
     "text": [
      "Merged stats saved for 2008: nba_merged_2008.csv\n"
     ]
    },
    {
     "name": "stderr",
     "output_type": "stream",
     "text": [
      "/var/folders/kk/xndsxk6n7js53cqtn6q1fjkm0000gn/T/ipykernel_12391/3569780612.py:24: FutureWarning: Passing literal html to 'read_html' is deprecated and will be removed in a future version. To read from a literal string, wrap it in a 'StringIO' object.\n",
      "  df = pd.read_html(str(table))[0]\n",
      "/var/folders/kk/xndsxk6n7js53cqtn6q1fjkm0000gn/T/ipykernel_12391/3569780612.py:24: FutureWarning: Passing literal html to 'read_html' is deprecated and will be removed in a future version. To read from a literal string, wrap it in a 'StringIO' object.\n",
      "  df = pd.read_html(str(table))[0]\n"
     ]
    },
    {
     "name": "stdout",
     "output_type": "stream",
     "text": [
      "Merged stats saved for 2009: nba_merged_2009.csv\n"
     ]
    },
    {
     "name": "stderr",
     "output_type": "stream",
     "text": [
      "/var/folders/kk/xndsxk6n7js53cqtn6q1fjkm0000gn/T/ipykernel_12391/3569780612.py:24: FutureWarning: Passing literal html to 'read_html' is deprecated and will be removed in a future version. To read from a literal string, wrap it in a 'StringIO' object.\n",
      "  df = pd.read_html(str(table))[0]\n",
      "/var/folders/kk/xndsxk6n7js53cqtn6q1fjkm0000gn/T/ipykernel_12391/3569780612.py:24: FutureWarning: Passing literal html to 'read_html' is deprecated and will be removed in a future version. To read from a literal string, wrap it in a 'StringIO' object.\n",
      "  df = pd.read_html(str(table))[0]\n"
     ]
    },
    {
     "name": "stdout",
     "output_type": "stream",
     "text": [
      "Merged stats saved for 2010: nba_merged_2010.csv\n"
     ]
    },
    {
     "name": "stderr",
     "output_type": "stream",
     "text": [
      "/var/folders/kk/xndsxk6n7js53cqtn6q1fjkm0000gn/T/ipykernel_12391/3569780612.py:24: FutureWarning: Passing literal html to 'read_html' is deprecated and will be removed in a future version. To read from a literal string, wrap it in a 'StringIO' object.\n",
      "  df = pd.read_html(str(table))[0]\n",
      "/var/folders/kk/xndsxk6n7js53cqtn6q1fjkm0000gn/T/ipykernel_12391/3569780612.py:24: FutureWarning: Passing literal html to 'read_html' is deprecated and will be removed in a future version. To read from a literal string, wrap it in a 'StringIO' object.\n",
      "  df = pd.read_html(str(table))[0]\n"
     ]
    },
    {
     "name": "stdout",
     "output_type": "stream",
     "text": [
      "Merged stats saved for 2011: nba_merged_2011.csv\n"
     ]
    },
    {
     "name": "stderr",
     "output_type": "stream",
     "text": [
      "/var/folders/kk/xndsxk6n7js53cqtn6q1fjkm0000gn/T/ipykernel_12391/3569780612.py:24: FutureWarning: Passing literal html to 'read_html' is deprecated and will be removed in a future version. To read from a literal string, wrap it in a 'StringIO' object.\n",
      "  df = pd.read_html(str(table))[0]\n",
      "/var/folders/kk/xndsxk6n7js53cqtn6q1fjkm0000gn/T/ipykernel_12391/3569780612.py:24: FutureWarning: Passing literal html to 'read_html' is deprecated and will be removed in a future version. To read from a literal string, wrap it in a 'StringIO' object.\n",
      "  df = pd.read_html(str(table))[0]\n"
     ]
    },
    {
     "name": "stdout",
     "output_type": "stream",
     "text": [
      "Merged stats saved for 2012: nba_merged_2012.csv\n"
     ]
    },
    {
     "name": "stderr",
     "output_type": "stream",
     "text": [
      "/var/folders/kk/xndsxk6n7js53cqtn6q1fjkm0000gn/T/ipykernel_12391/3569780612.py:24: FutureWarning: Passing literal html to 'read_html' is deprecated and will be removed in a future version. To read from a literal string, wrap it in a 'StringIO' object.\n",
      "  df = pd.read_html(str(table))[0]\n",
      "/var/folders/kk/xndsxk6n7js53cqtn6q1fjkm0000gn/T/ipykernel_12391/3569780612.py:24: FutureWarning: Passing literal html to 'read_html' is deprecated and will be removed in a future version. To read from a literal string, wrap it in a 'StringIO' object.\n",
      "  df = pd.read_html(str(table))[0]\n"
     ]
    },
    {
     "name": "stdout",
     "output_type": "stream",
     "text": [
      "Merged stats saved for 2013: nba_merged_2013.csv\n"
     ]
    },
    {
     "name": "stderr",
     "output_type": "stream",
     "text": [
      "/var/folders/kk/xndsxk6n7js53cqtn6q1fjkm0000gn/T/ipykernel_12391/3569780612.py:24: FutureWarning: Passing literal html to 'read_html' is deprecated and will be removed in a future version. To read from a literal string, wrap it in a 'StringIO' object.\n",
      "  df = pd.read_html(str(table))[0]\n",
      "/var/folders/kk/xndsxk6n7js53cqtn6q1fjkm0000gn/T/ipykernel_12391/3569780612.py:24: FutureWarning: Passing literal html to 'read_html' is deprecated and will be removed in a future version. To read from a literal string, wrap it in a 'StringIO' object.\n",
      "  df = pd.read_html(str(table))[0]\n"
     ]
    },
    {
     "name": "stdout",
     "output_type": "stream",
     "text": [
      "Merged stats saved for 2014: nba_merged_2014.csv\n"
     ]
    },
    {
     "name": "stderr",
     "output_type": "stream",
     "text": [
      "/var/folders/kk/xndsxk6n7js53cqtn6q1fjkm0000gn/T/ipykernel_12391/3569780612.py:24: FutureWarning: Passing literal html to 'read_html' is deprecated and will be removed in a future version. To read from a literal string, wrap it in a 'StringIO' object.\n",
      "  df = pd.read_html(str(table))[0]\n",
      "/var/folders/kk/xndsxk6n7js53cqtn6q1fjkm0000gn/T/ipykernel_12391/3569780612.py:24: FutureWarning: Passing literal html to 'read_html' is deprecated and will be removed in a future version. To read from a literal string, wrap it in a 'StringIO' object.\n",
      "  df = pd.read_html(str(table))[0]\n"
     ]
    },
    {
     "name": "stdout",
     "output_type": "stream",
     "text": [
      "Merged stats saved for 2015: nba_merged_2015.csv\n"
     ]
    },
    {
     "name": "stderr",
     "output_type": "stream",
     "text": [
      "/var/folders/kk/xndsxk6n7js53cqtn6q1fjkm0000gn/T/ipykernel_12391/3569780612.py:24: FutureWarning: Passing literal html to 'read_html' is deprecated and will be removed in a future version. To read from a literal string, wrap it in a 'StringIO' object.\n",
      "  df = pd.read_html(str(table))[0]\n",
      "/var/folders/kk/xndsxk6n7js53cqtn6q1fjkm0000gn/T/ipykernel_12391/3569780612.py:24: FutureWarning: Passing literal html to 'read_html' is deprecated and will be removed in a future version. To read from a literal string, wrap it in a 'StringIO' object.\n",
      "  df = pd.read_html(str(table))[0]\n"
     ]
    },
    {
     "name": "stdout",
     "output_type": "stream",
     "text": [
      "Merged stats saved for 2016: nba_merged_2016.csv\n"
     ]
    },
    {
     "name": "stderr",
     "output_type": "stream",
     "text": [
      "/var/folders/kk/xndsxk6n7js53cqtn6q1fjkm0000gn/T/ipykernel_12391/3569780612.py:24: FutureWarning: Passing literal html to 'read_html' is deprecated and will be removed in a future version. To read from a literal string, wrap it in a 'StringIO' object.\n",
      "  df = pd.read_html(str(table))[0]\n",
      "/var/folders/kk/xndsxk6n7js53cqtn6q1fjkm0000gn/T/ipykernel_12391/3569780612.py:24: FutureWarning: Passing literal html to 'read_html' is deprecated and will be removed in a future version. To read from a literal string, wrap it in a 'StringIO' object.\n",
      "  df = pd.read_html(str(table))[0]\n"
     ]
    },
    {
     "name": "stdout",
     "output_type": "stream",
     "text": [
      "Merged stats saved for 2017: nba_merged_2017.csv\n"
     ]
    },
    {
     "name": "stderr",
     "output_type": "stream",
     "text": [
      "/var/folders/kk/xndsxk6n7js53cqtn6q1fjkm0000gn/T/ipykernel_12391/3569780612.py:24: FutureWarning: Passing literal html to 'read_html' is deprecated and will be removed in a future version. To read from a literal string, wrap it in a 'StringIO' object.\n",
      "  df = pd.read_html(str(table))[0]\n",
      "/var/folders/kk/xndsxk6n7js53cqtn6q1fjkm0000gn/T/ipykernel_12391/3569780612.py:24: FutureWarning: Passing literal html to 'read_html' is deprecated and will be removed in a future version. To read from a literal string, wrap it in a 'StringIO' object.\n",
      "  df = pd.read_html(str(table))[0]\n"
     ]
    },
    {
     "name": "stdout",
     "output_type": "stream",
     "text": [
      "Merged stats saved for 2018: nba_merged_2018.csv\n"
     ]
    },
    {
     "name": "stderr",
     "output_type": "stream",
     "text": [
      "/var/folders/kk/xndsxk6n7js53cqtn6q1fjkm0000gn/T/ipykernel_12391/3569780612.py:24: FutureWarning: Passing literal html to 'read_html' is deprecated and will be removed in a future version. To read from a literal string, wrap it in a 'StringIO' object.\n",
      "  df = pd.read_html(str(table))[0]\n",
      "/var/folders/kk/xndsxk6n7js53cqtn6q1fjkm0000gn/T/ipykernel_12391/3569780612.py:24: FutureWarning: Passing literal html to 'read_html' is deprecated and will be removed in a future version. To read from a literal string, wrap it in a 'StringIO' object.\n",
      "  df = pd.read_html(str(table))[0]\n"
     ]
    },
    {
     "name": "stdout",
     "output_type": "stream",
     "text": [
      "Merged stats saved for 2019: nba_merged_2019.csv\n"
     ]
    },
    {
     "name": "stderr",
     "output_type": "stream",
     "text": [
      "/var/folders/kk/xndsxk6n7js53cqtn6q1fjkm0000gn/T/ipykernel_12391/3569780612.py:24: FutureWarning: Passing literal html to 'read_html' is deprecated and will be removed in a future version. To read from a literal string, wrap it in a 'StringIO' object.\n",
      "  df = pd.read_html(str(table))[0]\n",
      "/var/folders/kk/xndsxk6n7js53cqtn6q1fjkm0000gn/T/ipykernel_12391/3569780612.py:24: FutureWarning: Passing literal html to 'read_html' is deprecated and will be removed in a future version. To read from a literal string, wrap it in a 'StringIO' object.\n",
      "  df = pd.read_html(str(table))[0]\n"
     ]
    },
    {
     "name": "stdout",
     "output_type": "stream",
     "text": [
      "Merged stats saved for 2020: nba_merged_2020.csv\n"
     ]
    },
    {
     "name": "stderr",
     "output_type": "stream",
     "text": [
      "/var/folders/kk/xndsxk6n7js53cqtn6q1fjkm0000gn/T/ipykernel_12391/3569780612.py:24: FutureWarning: Passing literal html to 'read_html' is deprecated and will be removed in a future version. To read from a literal string, wrap it in a 'StringIO' object.\n",
      "  df = pd.read_html(str(table))[0]\n",
      "/var/folders/kk/xndsxk6n7js53cqtn6q1fjkm0000gn/T/ipykernel_12391/3569780612.py:24: FutureWarning: Passing literal html to 'read_html' is deprecated and will be removed in a future version. To read from a literal string, wrap it in a 'StringIO' object.\n",
      "  df = pd.read_html(str(table))[0]\n"
     ]
    },
    {
     "name": "stdout",
     "output_type": "stream",
     "text": [
      "Merged stats saved for 2021: nba_merged_2021.csv\n"
     ]
    },
    {
     "name": "stderr",
     "output_type": "stream",
     "text": [
      "/var/folders/kk/xndsxk6n7js53cqtn6q1fjkm0000gn/T/ipykernel_12391/3569780612.py:24: FutureWarning: Passing literal html to 'read_html' is deprecated and will be removed in a future version. To read from a literal string, wrap it in a 'StringIO' object.\n",
      "  df = pd.read_html(str(table))[0]\n",
      "/var/folders/kk/xndsxk6n7js53cqtn6q1fjkm0000gn/T/ipykernel_12391/3569780612.py:24: FutureWarning: Passing literal html to 'read_html' is deprecated and will be removed in a future version. To read from a literal string, wrap it in a 'StringIO' object.\n",
      "  df = pd.read_html(str(table))[0]\n"
     ]
    },
    {
     "name": "stdout",
     "output_type": "stream",
     "text": [
      "Merged stats saved for 2022: nba_merged_2022.csv\n"
     ]
    },
    {
     "name": "stderr",
     "output_type": "stream",
     "text": [
      "/var/folders/kk/xndsxk6n7js53cqtn6q1fjkm0000gn/T/ipykernel_12391/3569780612.py:24: FutureWarning: Passing literal html to 'read_html' is deprecated and will be removed in a future version. To read from a literal string, wrap it in a 'StringIO' object.\n",
      "  df = pd.read_html(str(table))[0]\n",
      "/var/folders/kk/xndsxk6n7js53cqtn6q1fjkm0000gn/T/ipykernel_12391/3569780612.py:24: FutureWarning: Passing literal html to 'read_html' is deprecated and will be removed in a future version. To read from a literal string, wrap it in a 'StringIO' object.\n",
      "  df = pd.read_html(str(table))[0]\n"
     ]
    },
    {
     "name": "stdout",
     "output_type": "stream",
     "text": [
      "Merged stats saved for 2023: nba_merged_2023.csv\n"
     ]
    },
    {
     "name": "stderr",
     "output_type": "stream",
     "text": [
      "/var/folders/kk/xndsxk6n7js53cqtn6q1fjkm0000gn/T/ipykernel_12391/3569780612.py:24: FutureWarning: Passing literal html to 'read_html' is deprecated and will be removed in a future version. To read from a literal string, wrap it in a 'StringIO' object.\n",
      "  df = pd.read_html(str(table))[0]\n",
      "/var/folders/kk/xndsxk6n7js53cqtn6q1fjkm0000gn/T/ipykernel_12391/3569780612.py:24: FutureWarning: Passing literal html to 'read_html' is deprecated and will be removed in a future version. To read from a literal string, wrap it in a 'StringIO' object.\n",
      "  df = pd.read_html(str(table))[0]\n"
     ]
    },
    {
     "name": "stdout",
     "output_type": "stream",
     "text": [
      "Merged stats saved for 2024: nba_merged_2024.csv\n"
     ]
    }
   ],
   "source": [
    "def scrape_table(url, table_id):\n",
    "    headers = {'User-Agent': 'Mozilla/5.0'}\n",
    "    response = requests.get(url, headers=headers)\n",
    "    if not response.ok:\n",
    "        print(f\"Failed to fetch URL: {url}\")\n",
    "        return None\n",
    "\n",
    "    soup = BeautifulSoup(response.content, 'lxml')\n",
    "\n",
    "    table = None\n",
    "    for comment in soup.find_all(string=lambda text: isinstance(text, str) and table_id in text):\n",
    "        comment_soup = BeautifulSoup(comment, 'lxml')\n",
    "        table = comment_soup.find('table', {'id': table_id})\n",
    "        if table:\n",
    "            break\n",
    "\n",
    "    if not table:\n",
    "        table = soup.find('table', {'id': table_id})\n",
    "\n",
    "    if not table:\n",
    "        print(f\"Table '{table_id}' not found\")\n",
    "        return None\n",
    "\n",
    "    df = pd.read_html(str(table))[0]\n",
    "    df = df[df['Rk'] != 'Rk']\n",
    "    df.reset_index(drop=True, inplace=True)\n",
    "    return df\n",
    "\n",
    "def scrape_and_merge_stats(season: int, save_dir='nba_merged_stats'):\n",
    "    os.makedirs(save_dir, exist_ok=True)\n",
    "\n",
    "    per_game_url = f'https://www.basketball-reference.com/leagues/NBA_{season}_per_game.html'\n",
    "    advanced_url = f'https://www.basketball-reference.com/leagues/NBA_{season}_advanced.html'\n",
    "\n",
    "    per_game_df = scrape_table(per_game_url, 'per_game_stats')\n",
    "    advanced_df = scrape_table(advanced_url, 'advanced')\n",
    "\n",
    "    if per_game_df is None or advanced_df is None:\n",
    "        print(f\"Skipping season {season} due to missing data.\")\n",
    "        return\n",
    "\n",
    "    merged_df = pd.merge(per_game_df, advanced_df, on=['Player', 'Team', 'Age', 'Pos', 'Awards'], how='inner')\n",
    "\n",
    "    merged_df['Season'] = f'{season-1}-{str(season)[-2:]}'\n",
    "\n",
    "    merged_df.to_csv(f\"{save_dir}/nba_merged_{season}.csv\", index=False)\n",
    "    print(f\"Merged stats saved for {season}: nba_merged_{season}.csv\")\n",
    "\n",
    "\n",
    "for year in range(2002, 2025):\n",
    "    scrape_and_merge_stats(year)\n"
   ]
  },
  {
   "cell_type": "code",
   "execution_count": null,
   "id": "e3aafde5",
   "metadata": {},
   "outputs": [],
   "source": []
  }
 ],
 "metadata": {
  "kernelspec": {
   "display_name": "nba_players",
   "language": "python",
   "name": "python3"
  },
  "language_info": {
   "codemirror_mode": {
    "name": "ipython",
    "version": 3
   },
   "file_extension": ".py",
   "mimetype": "text/x-python",
   "name": "python",
   "nbconvert_exporter": "python",
   "pygments_lexer": "ipython3",
   "version": "3.12.4"
  }
 },
 "nbformat": 4,
 "nbformat_minor": 5
}
